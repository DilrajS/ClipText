{
  "nbformat": 4,
  "nbformat_minor": 0,
  "metadata": {
    "colab": {
      "provenance": []
    },
    "kernelspec": {
      "name": "python3",
      "display_name": "Python 3"
    },
    "language_info": {
      "name": "python"
    }
  },
  "cells": [
    {
      "cell_type": "markdown",
      "source": [
        "# Optical Character Recognition (OCR) from Scratch\n",
        "\n",
        "## Introduction\n",
        "Here, we explore building a basic OCR system using convolutional neural networks. While commercial projects might leverage tools like Tesseract, building from scratch gives insights into the challenges and processes involved.\n",
        "\n",
        "## Goals/Objectives\n",
        "- Understand the intricacies of building an OCR model.\n",
        "- Gain hands-on experience in handling image data and training image classification models.\n",
        "\n",
        "## Dataset Overview\n",
        "We'll use the [EMNIST ByClass dataset](https://www.nist.gov/itl/products-and-services/emnist-dataset) for this project. This dataset contains 814,255 characters, both digits and letters.\n"
      ],
      "metadata": {
        "id": "2xdHIG6yhsot"
      }
    },
    {
      "cell_type": "code",
      "source": [
        "# install tensorflow dataset\n",
        "!pip install tensorflow-datasets\n",
        "\n",
        "# imports\n",
        "import tensorflow as tf\n",
        "import tensorflow_datasets as tfds\n",
        "from tensorflow.keras.utils import to_categorical\n",
        "import matplotlib.pyplot as plt\n",
        "import numpy as np"
      ],
      "metadata": {
        "colab": {
          "base_uri": "https://localhost:8080/"
        },
        "id": "ljyqS-cTTIGm",
        "outputId": "5d129f0e-b13f-4a80-9597-575e3ebea09d"
      },
      "execution_count": null,
      "outputs": [
        {
          "output_type": "stream",
          "name": "stdout",
          "text": [
            "Requirement already satisfied: tensorflow-datasets in /usr/local/lib/python3.10/dist-packages (4.9.2)\n",
            "Requirement already satisfied: absl-py in /usr/local/lib/python3.10/dist-packages (from tensorflow-datasets) (1.4.0)\n",
            "Requirement already satisfied: array-record in /usr/local/lib/python3.10/dist-packages (from tensorflow-datasets) (0.4.1)\n",
            "Requirement already satisfied: click in /usr/local/lib/python3.10/dist-packages (from tensorflow-datasets) (8.1.6)\n",
            "Requirement already satisfied: dm-tree in /usr/local/lib/python3.10/dist-packages (from tensorflow-datasets) (0.1.8)\n",
            "Requirement already satisfied: etils[enp,epath]>=0.9.0 in /usr/local/lib/python3.10/dist-packages (from tensorflow-datasets) (1.4.1)\n",
            "Requirement already satisfied: numpy in /usr/local/lib/python3.10/dist-packages (from tensorflow-datasets) (1.23.5)\n",
            "Requirement already satisfied: promise in /usr/local/lib/python3.10/dist-packages (from tensorflow-datasets) (2.3)\n",
            "Requirement already satisfied: protobuf>=3.20 in /usr/local/lib/python3.10/dist-packages (from tensorflow-datasets) (3.20.3)\n",
            "Requirement already satisfied: psutil in /usr/local/lib/python3.10/dist-packages (from tensorflow-datasets) (5.9.5)\n",
            "Requirement already satisfied: requests>=2.19.0 in /usr/local/lib/python3.10/dist-packages (from tensorflow-datasets) (2.31.0)\n",
            "Requirement already satisfied: tensorflow-metadata in /usr/local/lib/python3.10/dist-packages (from tensorflow-datasets) (1.14.0)\n",
            "Requirement already satisfied: termcolor in /usr/local/lib/python3.10/dist-packages (from tensorflow-datasets) (2.3.0)\n",
            "Requirement already satisfied: toml in /usr/local/lib/python3.10/dist-packages (from tensorflow-datasets) (0.10.2)\n",
            "Requirement already satisfied: tqdm in /usr/local/lib/python3.10/dist-packages (from tensorflow-datasets) (4.66.1)\n",
            "Requirement already satisfied: wrapt in /usr/local/lib/python3.10/dist-packages (from tensorflow-datasets) (1.14.1)\n",
            "Requirement already satisfied: importlib_resources in /usr/local/lib/python3.10/dist-packages (from etils[enp,epath]>=0.9.0->tensorflow-datasets) (6.0.1)\n",
            "Requirement already satisfied: typing_extensions in /usr/local/lib/python3.10/dist-packages (from etils[enp,epath]>=0.9.0->tensorflow-datasets) (4.7.1)\n",
            "Requirement already satisfied: zipp in /usr/local/lib/python3.10/dist-packages (from etils[enp,epath]>=0.9.0->tensorflow-datasets) (3.16.2)\n",
            "Requirement already satisfied: charset-normalizer<4,>=2 in /usr/local/lib/python3.10/dist-packages (from requests>=2.19.0->tensorflow-datasets) (3.2.0)\n",
            "Requirement already satisfied: idna<4,>=2.5 in /usr/local/lib/python3.10/dist-packages (from requests>=2.19.0->tensorflow-datasets) (3.4)\n",
            "Requirement already satisfied: urllib3<3,>=1.21.1 in /usr/local/lib/python3.10/dist-packages (from requests>=2.19.0->tensorflow-datasets) (2.0.4)\n",
            "Requirement already satisfied: certifi>=2017.4.17 in /usr/local/lib/python3.10/dist-packages (from requests>=2.19.0->tensorflow-datasets) (2023.7.22)\n",
            "Requirement already satisfied: six in /usr/local/lib/python3.10/dist-packages (from promise->tensorflow-datasets) (1.16.0)\n",
            "Requirement already satisfied: googleapis-common-protos<2,>=1.52.0 in /usr/local/lib/python3.10/dist-packages (from tensorflow-metadata->tensorflow-datasets) (1.60.0)\n"
          ]
        }
      ]
    },
    {
      "cell_type": "markdown",
      "source": [
        "\n",
        "# Data Loading & Exploration\n",
        "\n",
        "The EMNIST (Extended MNIST) dataset is an expansion of the original MNIST dataset. The EMNIST ByClass dataset contains 814,255 characters, both digits and letters. It's crucial to first load the dataset and visualize its samples to get a better understanding of the data we are dealing with.\n",
        "\n",
        "## Personal Notes:\n",
        "- Always begin by loading and understanding the dataset. Visualization helps to get an intuitive sense of the data.\n",
        "\n",
        "Let's start by loading the EMNIST dataset and visualizing some samples from it.\n"
      ],
      "metadata": {
        "id": "jVIhg7fIZa34"
      }
    },
    {
      "cell_type": "code",
      "execution_count": null,
      "metadata": {
        "colab": {
          "base_uri": "https://localhost:8080/",
          "height": 241
        },
        "id": "M7vgpGtyhbzQ",
        "outputId": "fa8e3948-30c2-4e9c-9ede-4dd90943e7c7"
      },
      "outputs": [
        {
          "output_type": "display_data",
          "data": {
            "text/plain": [
              "<Figure size 1000x500 with 5 Axes>"
            ],
            "image/png": "[encoded data removed]"
          },
          "metadata": {}
        }
      ],
      "source": [
        "\n",
        "# Load the EMNIST dataset\n",
        "(train_data, test_data), dataset_info = tfds.load(\n",
        "    'emnist/byclass',\n",
        "    split=['train', 'test'],\n",
        "    as_supervised=True,  # This will return tuple (img, label) otherwise it returns a dictionary\n",
        "    with_info=True  # Provides tuple containing info about version, features, num_samples\n",
        ")\n",
        "\n",
        "# Visualize some sample data from the dataset\n",
        "plt.figure(figsize=(10, 5))\n",
        "for i, (image, label) in enumerate(train_data.take(5)):\n",
        "    plt.subplot(1, 5, i+1)\n",
        "    plt.imshow(image.numpy().squeeze(), cmap=plt.cm.gray)\n",
        "    plt.title(label.numpy())\n",
        "    plt.axis('off')\n",
        "plt.tight_layout()\n",
        "plt.show()\n"
      ]
    },
    {
      "cell_type": "code",
      "source": [
        "# fix orientation\n",
        "import numpy as np\n",
        "\n",
        "for image, label in train_data.take(5):\n",
        "    # Correct the orientation\n",
        "    image = np.rot90(image.numpy().squeeze(), -1)\n",
        "    image = np.fliplr(image)\n",
        "\n",
        "    plt.figure()\n",
        "    plt.imshow(image, cmap=plt.cm.gray)\n",
        "    plt.title(label.numpy())"
      ],
      "metadata": {
        "colab": {
          "base_uri": "https://localhost:8080/",
          "height": 1000
        },
        "id": "sxoMRWyVlCp3",
        "outputId": "1be64518-c8d7-4dce-efc9-fc166b46a101"
      },
      "execution_count": null,
      "outputs": [
        {
          "output_type": "display_data",
          "data": {
            "text/plain": [
              "<Figure size 640x480 with 1 Axes>"
            ],
            "image/png": "[encoded data removed]"
          },
          "metadata": {}
        },
        {
          "output_type": "display_data",
          "data": {
            "text/plain": [
              "<Figure size 640x480 with 1 Axes>"
            ],
            "image/png": "[encoded data removed]"
          },
          "metadata": {}
        },
        {
          "output_type": "display_data",
          "data": {
            "text/plain": [
              "<Figure size 640x480 with 1 Axes>"
            ],
            "image/png": "[encoded data removed]"
          },
          "metadata": {}
        },
        {
          "output_type": "display_data",
          "data": {
            "text/plain": [
              "<Figure size 640x480 with 1 Axes>"
            ],
            "image/png": "[encoded data removed]"
          },
          "metadata": {}
        },
        {
          "output_type": "display_data",
          "data": {
            "text/plain": [
              "<Figure size 640x480 with 1 Axes>"
            ],
            "image/png": "[encoded data removed]"
          },
          "metadata": {}
        }
      ]
    },
    {
      "cell_type": "markdown",
      "source": [
        "\n",
        "# Data Preprocessing\n",
        "\n",
        "Before we can feed the images into our model, it's crucial to preprocess them to ensure they are in a suitable format. In the case of the EMNIST dataset, the images are rotated, and we need to correct their orientation.\n",
        "\n",
        "## Personal Notes:\n",
        "- Image data often requires preprocessing steps such as resizing, normalization, or orientation correction.\n",
        "- Preprocessing can impact model performance. It's essential to know the dataset's characteristics and apply appropriate preprocessing.\n",
        "\n",
        "Let's correct the orientation of the images."
      ],
      "metadata": {
        "id": "HoAiVYfJmeYv"
      }
    },
    {
      "cell_type": "markdown",
      "source": [
        "### Normalization"
      ],
      "metadata": {
        "id": "hClEBD9Irw7V"
      }
    },
    {
      "cell_type": "code",
      "source": [
        "# Access a batch of images and labels from train_data for visualization or processing\n",
        "for images, labels in train_data.take(1):\n",
        "    normalized_images = images.numpy() / 255.0"
      ],
      "metadata": {
        "id": "fXrc_um_lEiR"
      },
      "execution_count": null,
      "outputs": []
    },
    {
      "cell_type": "markdown",
      "source": [
        "### Reshaping"
      ],
      "metadata": {
        "id": "hnwHvqUJr0eC"
      }
    },
    {
      "cell_type": "code",
      "source": [
        "# inspect the shape of images in dataset\n",
        "\n",
        "for images, labels in train_data.take(1):  # Taking one batch from the dataset\n",
        "    print('Image shape (height, width, channels) : ', images.shape)"
      ],
      "metadata": {
        "colab": {
          "base_uri": "https://localhost:8080/"
        },
        "id": "s462NIKUIE6y",
        "outputId": "67fa0b06-1e27-4016-9b5d-2f3e28b8f3d3"
      },
      "execution_count": null,
      "outputs": [
        {
          "output_type": "stream",
          "name": "stdout",
          "text": [
            "Image shape (height, width, channels) :  (28, 28, 1)\n"
          ]
        }
      ]
    },
    {
      "cell_type": "markdown",
      "source": [
        "Already in the desired shape"
      ],
      "metadata": {
        "id": "ML0ejm4KPbBq"
      }
    },
    {
      "cell_type": "markdown",
      "source": [
        "*Personal notes: In TensorFlow (and also in numpy), when you're reshaping, the -1 is effectively used as a placeholder that says \"whatever is needed\", so TensorFlow will automatically compute the correct number for that dimension.*\n"
      ],
      "metadata": {
        "id": "odQJQfL3J0SW"
      }
    },
    {
      "cell_type": "markdown",
      "source": [
        "### Orientation Correction:"
      ],
      "metadata": {
        "id": "UDRlYKmTGluY"
      }
    },
    {
      "cell_type": "code",
      "source": [
        "\n",
        "def correct_orientation(image, label):\n",
        "    # Rotate by 270 degrees (equivalent to -90 degrees) and flip left-right\n",
        "    image = tf.image.rot90(image, k=3)\n",
        "    image = tf.image.flip_left_right(image)\n",
        "    return image, label\n",
        "\n",
        "corrected_train_data = train_data.map(correct_orientation)\n",
        "\n",
        "# Visualize some sample data after orientation correction\n",
        "plt.figure(figsize=(10, 5))\n",
        "for i, (image, label) in enumerate(corrected_train_data.take(5)):\n",
        "    plt.subplot(1, 5, i+1)\n",
        "    plt.imshow(image.numpy().squeeze(), cmap=plt.cm.gray)\n",
        "    plt.title(label.numpy())\n",
        "    plt.axis('off')\n",
        "plt.tight_layout()\n",
        "plt.show()\n"
      ],
      "metadata": {
        "colab": {
          "base_uri": "https://localhost:8080/",
          "height": 241
        },
        "id": "AGYsmCRkG2G1",
        "outputId": "6ab89fdd-39d6-49ff-845a-11f7f27bea3b"
      },
      "execution_count": null,
      "outputs": [
        {
          "output_type": "display_data",
          "data": {
            "text/plain": [
              "<Figure size 1000x500 with 5 Axes>"
            ],
            "image/png": "[encoded data removed]"
          },
          "metadata": {}
        }
      ]
    },
    {
      "cell_type": "markdown",
      "source": [
        "\n",
        "# Label Encoding\n",
        "\n",
        "In machine learning, we often encode categorical labels into a format that could be provided to ML algorithms to do a better job in prediction. One common way is one-hot encoding. One-hot encoding is a process by which categorical variables are converted into a format that can be fed to ML algorithms to improve predictions.\n",
        "\n",
        "For the EMNIST dataset, the labels represent different classes of characters, and these are categorical. Hence, we need to one-hot encode them.\n",
        "\n",
        "## Personal Notes:\n",
        "- One-hot encoding is a process to convert integer labels into a binary matrix. For example, if the dataset has three classes and an input sample belongs to the second class, its one-hot encoded label would be [0, 1, 0].\n",
        "- This binary matrix representation can be used as input to a neural network.\n",
        "\n",
        "Let's proceed with the one-hot encoding of the labels.\n"
      ],
      "metadata": {
        "id": "h_v-QQNsHEPa"
      }
    },
    {
      "cell_type": "code",
      "source": [
        "def encode_labels(image, label):\n",
        "    # One-hot encode the labels using tf.one_hot\n",
        "    num_classes = dataset_info.features['label'].num_classes\n",
        "    one_hot_label = tf.one_hot(label, depth=num_classes)\n",
        "    return image, one_hot_label\n",
        "\n",
        "encoded_train_data = corrected_train_data.map(encode_labels)\n",
        "\n",
        "# Extract a sample for visualization\n",
        "original_sample = next(iter(tfds.as_numpy(corrected_train_data.take(1))))\n",
        "encoded_sample = next(iter(tfds.as_numpy(encoded_train_data.take(1))))\n",
        "\n",
        "original_label = original_sample[1]\n",
        "one_hot_encoded_label = encoded_sample[1]\n",
        "\n",
        "original_label, one_hot_encoded_label\n"
      ],
      "metadata": {
        "colab": {
          "base_uri": "https://localhost:8080/"
        },
        "id": "TnHBRdMqHWAX",
        "outputId": "1479801b-35c3-4cb4-954e-71d9bc492985"
      },
      "execution_count": null,
      "outputs": [
        {
          "output_type": "execute_result",
          "data": {
            "text/plain": [
              "(5,\n",
              " array([0., 0., 0., 0., 0., 1., 0., 0., 0., 0., 0., 0., 0., 0., 0., 0., 0.,\n",
              "        0., 0., 0., 0., 0., 0., 0., 0., 0., 0., 0., 0., 0., 0., 0., 0., 0.,\n",
              "        0., 0., 0., 0., 0., 0., 0., 0., 0., 0., 0., 0., 0., 0., 0., 0., 0.,\n",
              "        0., 0., 0., 0., 0., 0., 0., 0., 0., 0., 0.], dtype=float32))"
            ]
          },
          "metadata": {},
          "execution_count": 10
        }
      ]
    },
    {
      "cell_type": "markdown",
      "source": [
        "\n",
        "# Balancing the Dataset\n",
        "\n",
        "Class imbalance is a common problem in machine learning classification. If the number of samples in different classes is imbalanced, the model could be biased towards the class with more samples, leading to suboptimal performance.\n",
        "\n",
        "In the context of the EMNIST dataset, it's essential to ensure that each character class has roughly the same number of samples.\n",
        "\n",
        "## Personal Notes:\n",
        "- An imbalanced dataset can lead the model to be more biased towards the class with more samples. This could result in reduced accuracy for the minority classes.\n",
        "- Oversampling and undersampling are two common techniques to handle imbalance. Oversampling increases the number of minority class samples, while undersampling reduces the number of majority class samples.\n",
        "\n",
        "Let's inspect the distribution of classes in our dataset and balance it if necessary.\n"
      ],
      "metadata": {
        "id": "5OU2v_WxHhHh"
      }
    },
    {
      "cell_type": "code",
      "source": [
        "# Inspect the class distribution\n",
        "class_distribution = {}\n",
        "\n",
        "for _, label in tfds.as_numpy(encoded_train_data):\n",
        "    label_index = np.argmax(label)\n",
        "    class_distribution[label_index] = class_distribution.get(label_index, 0) + 1\n",
        "\n",
        "# Display the class distribution\n",
        "class_distribution\n"
      ],
      "metadata": {
        "colab": {
          "base_uri": "https://localhost:8080/"
        },
        "id": "wU-zz7gBHiE7",
        "outputId": "b70e7eaa-91ea-437a-d2f7-c617d2b01f30"
      },
      "execution_count": null,
      "outputs": [
        {
          "output_type": "execute_result",
          "data": {
            "text/plain": [
              "{5: 31416,\n",
              " 9: 33847,\n",
              " 14: 4934,\n",
              " 8: 33946,\n",
              " 0: 34585,\n",
              " 7: 35754,\n",
              " 39: 10177,\n",
              " 40: 24631,\n",
              " 1: 38374,\n",
              " 35: 2701,\n",
              " 15: 9182,\n",
              " 3: 35143,\n",
              " 53: 14105,\n",
              " 24: 24983,\n",
              " 31: 4637,\n",
              " 17: 3152,\n",
              " 26: 2605,\n",
              " 52: 2994,\n",
              " 33: 2771,\n",
              " 37: 5159,\n",
              " 42: 3687,\n",
              " 6: 34232,\n",
              " 59: 2822,\n",
              " 43: 8738,\n",
              " 18: 11946,\n",
              " 49: 11418,\n",
              " 34: 4743,\n",
              " 2: 34203,\n",
              " 36: 10033,\n",
              " 47: 15318,\n",
              " 21: 5076,\n",
              " 30: 12602,\n",
              " 38: 2854,\n",
              " 16: 2517,\n",
              " 57: 2910,\n",
              " 32: 4695,\n",
              " 55: 18262,\n",
              " 23: 8237,\n",
              " 4: 33535,\n",
              " 19: 3762,\n",
              " 10: 6407,\n",
              " 27: 5073,\n",
              " 29: 9820,\n",
              " 12: 10094,\n",
              " 60: 2365,\n",
              " 13: 4562,\n",
              " 28: 20764,\n",
              " 48: 2645,\n",
              " 54: 2699,\n",
              " 50: 2749,\n",
              " 45: 1896,\n",
              " 56: 2830,\n",
              " 25: 8347,\n",
              " 41: 2561,\n",
              " 44: 2725,\n",
              " 20: 2468,\n",
              " 61: 2725,\n",
              " 22: 9002,\n",
              " 46: 2491,\n",
              " 58: 2697,\n",
              " 51: 2448,\n",
              " 11: 3878}"
            ]
          },
          "metadata": {},
          "execution_count": 12
        }
      ]
    }
  ]
}